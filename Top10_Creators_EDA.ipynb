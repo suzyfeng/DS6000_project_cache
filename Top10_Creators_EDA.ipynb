{
 "cells": [
  {
   "cell_type": "markdown",
   "id": "dc653009-1b64-4690-bac4-4ccc95cde49f",
   "metadata": {
    "jp-MarkdownHeadingCollapsed": true,
    "tags": []
   },
   "source": [
    "## PySpark SetUp"
   ]
  },
  {
   "cell_type": "code",
   "execution_count": 2,
   "id": "67cad089-5210-4ce0-9249-429c96f0f906",
   "metadata": {
    "collapsed": true,
    "jupyter": {
     "outputs_hidden": true
    },
    "tags": []
   },
   "outputs": [
    {
     "name": "stdout",
     "output_type": "stream",
     "text": [
      "Collecting package metadata (current_repodata.json): done\n",
      "Solving environment: done\n",
      "\n",
      "\n",
      "==> WARNING: A newer version of conda exists. <==\n",
      "  current version: 23.3.1\n",
      "  latest version: 23.10.0\n",
      "\n",
      "Please update conda by running\n",
      "\n",
      "    $ conda update -n base -c defaults conda\n",
      "\n",
      "Or to minimize the number of packages updated during conda update use\n",
      "\n",
      "     conda install conda=23.10.0\n",
      "\n",
      "\n",
      "\n",
      "# All requested packages already installed.\n",
      "\n",
      "\n",
      "Note: you may need to restart the kernel to use updated packages.\n",
      "Requirement already satisfied: pyspark==3.2.0 in /opt/conda/lib/python3.10/site-packages (3.2.0)\n",
      "Requirement already satisfied: py4j==0.10.9.2 in /opt/conda/lib/python3.10/site-packages (from pyspark==3.2.0) (0.10.9.2)\n",
      "\u001b[33mWARNING: Running pip as the 'root' user can result in broken permissions and conflicting behaviour with the system package manager. It is recommended to use a virtual environment instead: https://pip.pypa.io/warnings/venv\u001b[0m\u001b[33m\n",
      "\u001b[0m\n",
      "\u001b[1m[\u001b[0m\u001b[34;49mnotice\u001b[0m\u001b[1;39;49m]\u001b[0m\u001b[39;49m A new release of pip is available: \u001b[0m\u001b[31;49m23.2.1\u001b[0m\u001b[39;49m -> \u001b[0m\u001b[32;49m23.3.1\u001b[0m\n",
      "\u001b[1m[\u001b[0m\u001b[34;49mnotice\u001b[0m\u001b[1;39;49m]\u001b[0m\u001b[39;49m To update, run: \u001b[0m\u001b[32;49mpip install --upgrade pip\u001b[0m\n",
      "Note: you may need to restart the kernel to use updated packages.\n",
      "Requirement already satisfied: praw in /opt/conda/lib/python3.10/site-packages (7.7.1)\n",
      "Requirement already satisfied: prawcore<3,>=2.1 in /opt/conda/lib/python3.10/site-packages (from praw) (2.4.0)\n",
      "Requirement already satisfied: update-checker>=0.18 in /opt/conda/lib/python3.10/site-packages (from praw) (0.18.0)\n",
      "Requirement already satisfied: websocket-client>=0.54.0 in /opt/conda/lib/python3.10/site-packages (from praw) (0.58.0)\n",
      "Requirement already satisfied: requests<3.0,>=2.6.0 in /opt/conda/lib/python3.10/site-packages (from prawcore<3,>=2.1->praw) (2.31.0)\n",
      "Requirement already satisfied: six in /opt/conda/lib/python3.10/site-packages (from websocket-client>=0.54.0->praw) (1.16.0)\n",
      "Requirement already satisfied: charset-normalizer<4,>=2 in /opt/conda/lib/python3.10/site-packages (from requests<3.0,>=2.6.0->prawcore<3,>=2.1->praw) (2.0.4)\n",
      "Requirement already satisfied: idna<4,>=2.5 in /opt/conda/lib/python3.10/site-packages (from requests<3.0,>=2.6.0->prawcore<3,>=2.1->praw) (3.3)\n",
      "Requirement already satisfied: urllib3<3,>=1.21.1 in /opt/conda/lib/python3.10/site-packages (from requests<3.0,>=2.6.0->prawcore<3,>=2.1->praw) (2.0.6)\n",
      "Requirement already satisfied: certifi>=2017.4.17 in /opt/conda/lib/python3.10/site-packages (from requests<3.0,>=2.6.0->prawcore<3,>=2.1->praw) (2023.7.22)\n",
      "\u001b[33mWARNING: Running pip as the 'root' user can result in broken permissions and conflicting behaviour with the system package manager. It is recommended to use a virtual environment instead: https://pip.pypa.io/warnings/venv\u001b[0m\u001b[33m\n",
      "\u001b[0m\n",
      "\u001b[1m[\u001b[0m\u001b[34;49mnotice\u001b[0m\u001b[1;39;49m]\u001b[0m\u001b[39;49m A new release of pip is available: \u001b[0m\u001b[31;49m23.2.1\u001b[0m\u001b[39;49m -> \u001b[0m\u001b[32;49m23.3.1\u001b[0m\n",
      "\u001b[1m[\u001b[0m\u001b[34;49mnotice\u001b[0m\u001b[1;39;49m]\u001b[0m\u001b[39;49m To update, run: \u001b[0m\u001b[32;49mpip install --upgrade pip\u001b[0m\n",
      "Note: you may need to restart the kernel to use updated packages.\n"
     ]
    },
    {
     "data": {
      "text/html": [
       "<script>Jupyter.notebook.kernel.restart()</script>"
      ],
      "text/plain": [
       "<IPython.core.display.HTML object>"
      ]
     },
     "execution_count": 2,
     "metadata": {},
     "output_type": "execute_result"
    }
   ],
   "source": [
    "# Setup - Run only once per Kernel App\n",
    "%conda install openjdk -y\n",
    "\n",
    "# install PySpark\n",
    "# install Python Reddit API Wrapper for getting external data Karma\n",
    "%pip install pyspark==3.2.0\n",
    "%pip install praw\n",
    "\n",
    "\n",
    "# restart kernel\n",
    "from IPython.core.display import HTML\n",
    "HTML(\"<script>Jupyter.notebook.kernel.restart()</script>\")"
   ]
  },
  {
   "cell_type": "code",
   "execution_count": 9,
   "id": "6721b8d9-1a8b-4816-95e0-b33bc81c9510",
   "metadata": {
    "tags": []
   },
   "outputs": [],
   "source": [
    "from pyspark.sql import functions as F\n",
    "from pyspark.sql import Window\n",
    "from pyspark.sql.types import IntegerType\n",
    "import pandas as pd\n",
    "import praw"
   ]
  },
  {
   "cell_type": "code",
   "execution_count": 3,
   "id": "e62d4633-6658-463c-8d4c-f666e7ad3d73",
   "metadata": {
    "tags": []
   },
   "outputs": [
    {
     "name": "stderr",
     "output_type": "stream",
     "text": [
      "Warning: Ignoring non-Spark config property: fs.s3a.aws.credentials.provider\n",
      "WARNING: An illegal reflective access operation has occurred\n",
      "WARNING: Illegal reflective access by org.apache.spark.unsafe.Platform (file:/opt/conda/lib/python3.10/site-packages/pyspark/jars/spark-unsafe_2.12-3.2.0.jar) to constructor java.nio.DirectByteBuffer(long,int)\n",
      "WARNING: Please consider reporting this to the maintainers of org.apache.spark.unsafe.Platform\n",
      "WARNING: Use --illegal-access=warn to enable warnings of further illegal reflective access operations\n",
      "WARNING: All illegal access operations will be denied in a future release\n"
     ]
    },
    {
     "name": "stdout",
     "output_type": "stream",
     "text": [
      ":: loading settings :: url = jar:file:/opt/conda/lib/python3.10/site-packages/pyspark/jars/ivy-2.5.0.jar!/org/apache/ivy/core/settings/ivysettings.xml\n"
     ]
    },
    {
     "name": "stderr",
     "output_type": "stream",
     "text": [
      "Ivy Default Cache set to: /root/.ivy2/cache\n",
      "The jars for the packages stored in: /root/.ivy2/jars\n",
      "org.apache.hadoop#hadoop-aws added as a dependency\n",
      ":: resolving dependencies :: org.apache.spark#spark-submit-parent-f72b13fd-d8b2-4cc3-95d5-919294ce4856;1.0\n",
      "\tconfs: [default]\n",
      "\tfound org.apache.hadoop#hadoop-aws;3.2.2 in central\n",
      "\tfound com.amazonaws#aws-java-sdk-bundle;1.11.563 in central\n",
      ":: resolution report :: resolve 404ms :: artifacts dl 34ms\n",
      "\t:: modules in use:\n",
      "\tcom.amazonaws#aws-java-sdk-bundle;1.11.563 from central in [default]\n",
      "\torg.apache.hadoop#hadoop-aws;3.2.2 from central in [default]\n",
      "\t---------------------------------------------------------------------\n",
      "\t|                  |            modules            ||   artifacts   |\n",
      "\t|       conf       | number| search|dwnlded|evicted|| number|dwnlded|\n",
      "\t---------------------------------------------------------------------\n",
      "\t|      default     |   2   |   0   |   0   |   0   ||   2   |   0   |\n",
      "\t---------------------------------------------------------------------\n",
      ":: retrieving :: org.apache.spark#spark-submit-parent-f72b13fd-d8b2-4cc3-95d5-919294ce4856\n",
      "\tconfs: [default]\n",
      "\t0 artifacts copied, 2 already retrieved (0kB/17ms)\n",
      "23/11/10 05:21:20 WARN NativeCodeLoader: Unable to load native-hadoop library for your platform... using builtin-java classes where applicable\n",
      "Using Spark's default log4j profile: org/apache/spark/log4j-defaults.properties\n",
      "Setting default log level to \"WARN\".\n",
      "To adjust logging level use sc.setLogLevel(newLevel). For SparkR, use setLogLevel(newLevel).\n",
      "23/11/10 05:21:21 WARN Utils: Service 'SparkUI' could not bind on port 4040. Attempting port 4041.\n"
     ]
    },
    {
     "name": "stdout",
     "output_type": "stream",
     "text": [
      "3.2.0\n"
     ]
    }
   ],
   "source": [
    "# Import pyspark and build Spark session\n",
    "from pyspark.sql import SparkSession\n",
    "\n",
    "spark = (\n",
    "    SparkSession.builder.appName(\"PySparkApp\")\n",
    "    .config(\"spark.jars.packages\", \"org.apache.hadoop:hadoop-aws:3.2.2\")\n",
    "    .config(\n",
    "        \"fs.s3a.aws.credentials.provider\",\n",
    "        \"com.amazonaws.auth.ContainerCredentialsProvider\",\n",
    "    )\n",
    "    .getOrCreate()\n",
    ")\n",
    "\n",
    "print(spark.version)"
   ]
  },
  {
   "cell_type": "markdown",
   "id": "8cd1e67b-1961-452c-ba7b-99a2c4c02064",
   "metadata": {
    "jp-MarkdownHeadingCollapsed": true,
    "tags": []
   },
   "source": [
    "## Submission\n",
    "\n"
   ]
  },
  {
   "cell_type": "code",
   "execution_count": 4,
   "id": "32848c0c-c16c-441f-99fe-db1659f7e9ad",
   "metadata": {
    "tags": []
   },
   "outputs": [
    {
     "name": "stdout",
     "output_type": "stream",
     "text": [
      "sagemaker.config INFO - Not applying SDK defaults from location: /etc/xdg/sagemaker/config.yaml\n",
      "sagemaker.config INFO - Not applying SDK defaults from location: /root/.config/sagemaker/config.yaml\n",
      "sagemaker.config INFO - Not applying SDK defaults from location: /etc/xdg/sagemaker/config.yaml\n",
      "sagemaker.config INFO - Not applying SDK defaults from location: /root/.config/sagemaker/config.yaml\n",
      "reading submissions from s3a://sagemaker-us-east-1-861795727138/project/submissions/yyyy=*\n"
     ]
    },
    {
     "name": "stderr",
     "output_type": "stream",
     "text": [
      "23/11/10 05:21:28 WARN MetricsConfig: Cannot locate configuration: tried hadoop-metrics2-s3a-file-system.properties,hadoop-metrics2.properties\n",
      "23/11/10 05:21:36 WARN package: Truncated the string representation of a plan since it was too large. This behavior can be adjusted by setting 'spark.sql.debug.maxToStringFields'.\n",
      "[Stage 1:========================================================>(96 + 1) / 97]\r"
     ]
    },
    {
     "name": "stdout",
     "output_type": "stream",
     "text": [
      "shape of the submissions dataframe is 95,932x68\n",
      "CPU times: user 2.79 s, sys: 269 ms, total: 3.06 s\n",
      "Wall time: 6min 29s\n"
     ]
    },
    {
     "name": "stderr",
     "output_type": "stream",
     "text": [
      "                                                                                \r"
     ]
    }
   ],
   "source": [
    "%%time\n",
    "import sagemaker\n",
    "session = sagemaker.Session()\n",
    "bucket = session.default_bucket()\n",
    "output_prefix_data_submissions = f\"project/submissions/yyyy=*\"\n",
    "s3_path = f\"s3a://{bucket}/{output_prefix_data_submissions}\"\n",
    "print(f\"reading submissions from {s3_path}\")\n",
    "submissions = spark.read.parquet(s3_path, header=True)\n",
    "print(f\"shape of the submissions dataframe is {submissions.count():,}x{len(submissions.columns)}\")"
   ]
  },
  {
   "cell_type": "code",
   "execution_count": 5,
   "id": "264d2b4e-ab99-4410-ae25-85bec4803d0c",
   "metadata": {
    "collapsed": true,
    "jupyter": {
     "outputs_hidden": true
    },
    "tags": []
   },
   "outputs": [
    {
     "data": {
      "text/plain": [
       "DataFrame[adserver_click_url: string, adserver_imp_pixel: string, archived: boolean, author: string, author_cakeday: boolean, author_flair_css_class: string, author_flair_text: string, author_id: string, brand_safe: boolean, contest_mode: boolean, created_utc: timestamp, crosspost_parent: string, crosspost_parent_list: array<struct<approved_at_utc:string,approved_by:string,archived:boolean,author:string,author_flair_css_class:string,author_flair_text:string,banned_at_utc:string,banned_by:string,brand_safe:boolean,can_gild:boolean,can_mod_post:boolean,clicked:boolean,contest_mode:boolean,created:double,created_utc:double,distinguished:string,domain:string,downs:bigint,edited:boolean,gilded:bigint,hidden:boolean,hide_score:boolean,id:string,is_crosspostable:boolean,is_reddit_media_domain:boolean,is_self:boolean,is_video:boolean,likes:string,link_flair_css_class:string,link_flair_text:string,locked:boolean,media:string,mod_reports:array<string>,name:string,num_comments:bigint,num_crossposts:bigint,num_reports:string,over_18:boolean,parent_whitelist_status:string,permalink:string,pinned:boolean,quarantine:boolean,removal_reason:string,report_reasons:string,saved:boolean,score:bigint,secure_media:string,selftext:string,selftext_html:string,spoiler:boolean,stickied:boolean,subreddit:string,subreddit_id:string,subreddit_name_prefixed:string,subreddit_type:string,suggested_sort:string,thumbnail:string,thumbnail_height:string,thumbnail_width:string,title:string,ups:bigint,url:string,user_reports:array<string>,view_count:string,visited:boolean,whitelist_status:string>>, disable_comments: boolean, distinguished: string, domain: string, domain_override: string, edited: string, embed_type: string, embed_url: string, gilded: bigint, hidden: boolean, hide_score: boolean, href_url: string, id: string, imp_pixel: string, is_crosspostable: boolean, is_reddit_media_domain: boolean, is_self: boolean, is_video: boolean, link_flair_css_class: string, link_flair_text: string, locked: boolean, media: struct<event_id:string,oembed:struct<author_name:string,author_url:string,cache_age:bigint,description:string,height:bigint,html:string,provider_name:string,provider_url:string,thumbnail_height:bigint,thumbnail_url:string,thumbnail_width:bigint,title:string,type:string,url:string,version:string,width:bigint>,reddit_video:struct<dash_url:string,duration:bigint,fallback_url:string,height:bigint,hls_url:string,is_gif:boolean,scrubber_media_url:string,transcoding_status:string,width:bigint>,type:string>, media_embed: struct<content:string,height:bigint,scrolling:boolean,width:bigint>, mobile_ad_url: string, num_comments: bigint, num_crossposts: bigint, original_link: string, over_18: boolean, parent_whitelist_status: string, permalink: string, pinned: boolean, post_hint: string, preview: struct<enabled:boolean,images:array<struct<id:string,resolutions:array<struct<height:bigint,url:string,width:bigint>>,source:struct<height:bigint,url:string,width:bigint>,variants:struct<gif:struct<resolutions:array<struct<height:bigint,url:string,width:bigint>>,source:struct<height:bigint,url:string,width:bigint>>,mp4:struct<resolutions:array<struct<height:bigint,url:string,width:bigint>>,source:struct<height:bigint,url:string,width:bigint>>,nsfw:struct<resolutions:array<struct<height:bigint,url:string,width:bigint>>,source:struct<height:bigint,url:string,width:bigint>>,obfuscated:struct<resolutions:array<struct<height:bigint,url:string,width:bigint>>,source:struct<height:bigint,url:string,width:bigint>>>>>>, promoted: boolean, promoted_by: string, promoted_display_name: string, promoted_url: string, retrieved_on: timestamp, score: bigint, secure_media: struct<event_id:string,oembed:struct<author_name:string,author_url:string,cache_age:bigint,description:string,height:bigint,html:string,provider_name:string,provider_url:string,thumbnail_height:bigint,thumbnail_url:string,thumbnail_width:bigint,title:string,type:string,url:string,version:string,width:bigint>,type:string>, secure_media_embed: struct<content:string,height:bigint,media_domain_url:string,scrolling:boolean,width:bigint>, selftext: string, spoiler: boolean, stickied: boolean, subreddit: string, subreddit_id: string, suggested_sort: string, third_party_trackers: array<string>, third_party_tracking: string, third_party_tracking_2: string, thumbnail: string, thumbnail_height: bigint, thumbnail_width: bigint, title: string, url: string, whitelist_status: string]"
      ]
     },
     "execution_count": 5,
     "metadata": {},
     "output_type": "execute_result"
    }
   ],
   "source": [
    "sampled_submissions = submissions.sample(withReplacement=False, fraction=0.1, seed=123)\n",
    "sampled_submissions.cache()"
   ]
  },
  {
   "cell_type": "markdown",
   "id": "04431631-e4b0-4079-b12d-9178a568ce0e",
   "metadata": {
    "jp-MarkdownHeadingCollapsed": true,
    "tags": []
   },
   "source": [
    "## Comment\n"
   ]
  },
  {
   "cell_type": "code",
   "execution_count": 6,
   "id": "f0702e77-639a-444d-a28f-bfd640ef2e11",
   "metadata": {},
   "outputs": [
    {
     "name": "stdout",
     "output_type": "stream",
     "text": [
      "sagemaker.config INFO - Not applying SDK defaults from location: /etc/xdg/sagemaker/config.yaml\n",
      "sagemaker.config INFO - Not applying SDK defaults from location: /root/.config/sagemaker/config.yaml\n",
      "reading comments from s3a://sagemaker-us-east-1-861795727138/project/comments/yyyy=*\n"
     ]
    },
    {
     "name": "stderr",
     "output_type": "stream",
     "text": [
      "[Stage 5:======================================================>(240 + 1) / 241]\r"
     ]
    },
    {
     "name": "stdout",
     "output_type": "stream",
     "text": [
      "shape of the comments dataframe is 1,053,280x21\n",
      "CPU times: user 433 ms, sys: 65.1 ms, total: 498 ms\n",
      "Wall time: 11min 6s\n"
     ]
    },
    {
     "name": "stderr",
     "output_type": "stream",
     "text": [
      "                                                                                \r"
     ]
    }
   ],
   "source": [
    "%%time\n",
    "import sagemaker\n",
    "session = sagemaker.Session()\n",
    "bucket = session.default_bucket()\n",
    "output_prefix_data_comments = \"project/comments/yyyy=*\"\n",
    "s3_path = f\"s3a://{bucket}/{output_prefix_data_comments}\"\n",
    "#s3_path = \"s3a://sagemaker-us-east-1-038932893404/project/comments/yyyy=2021/part-00000-90796409-5783-4705-92c0-27c27eda8c4c-c000.snappy.parquet\"\n",
    "print(f\"reading comments from {s3_path}\")\n",
    "comments = spark.read.parquet(s3_path, header=True)\n",
    "print(f\"shape of the comments dataframe is {comments.count():,}x{len(comments.columns)}\")"
   ]
  },
  {
   "cell_type": "code",
   "execution_count": 7,
   "id": "8ec20067-b616-4384-af62-5441796d168c",
   "metadata": {},
   "outputs": [
    {
     "data": {
      "text/plain": [
       "DataFrame[author: string, author_cakeday: boolean, author_flair_css_class: string, author_flair_text: string, body: string, can_gild: boolean, controversiality: bigint, created_utc: timestamp, distinguished: string, edited: string, gilded: bigint, id: string, is_submitter: boolean, link_id: string, parent_id: string, permalink: string, retrieved_on: timestamp, score: bigint, stickied: boolean, subreddit: string, subreddit_id: string]"
      ]
     },
     "execution_count": 7,
     "metadata": {},
     "output_type": "execute_result"
    }
   ],
   "source": [
    "sampled_comments = comments.sample(withReplacement=False, fraction=0.1, seed=123)\n",
    "sampled_comments.cache()"
   ]
  },
  {
   "cell_type": "markdown",
   "id": "d987e6c8-69d7-4194-a0dd-ced270d7e03c",
   "metadata": {
    "jp-MarkdownHeadingCollapsed": true,
    "tags": []
   },
   "source": [
    "## PRAW"
   ]
  },
  {
   "cell_type": "code",
   "execution_count": 10,
   "id": "5f95a759-575c-4f5a-b77e-b71902c9ff60",
   "metadata": {},
   "outputs": [],
   "source": [
    "#Get posting karma of the creator from Python Reddit API Wrapper\n",
    "def udf_get_karma(author_str):\n",
    "    #Reddit API Credential\n",
    "    client_id = 'UViHJJ217cLodAY9AraMWg'\n",
    "    client_secret = 'dvpLKVfv7ItyQhHkYPPOK6o_ssI63w'\n",
    "    user_agent = 'android:com.example.myredditapp:v1.2.3 (by u/sf_suzyfeng)'\n",
    "    #Reddit Username\n",
    "    username = 'sf_suzyfeng'\n",
    "    #Initialize a Reddit instance\n",
    "    reddit = praw.Reddit(client_id=client_id,client_secret=client_secret,user_agent=user_agent)\n",
    "    try:\n",
    "        redditor= reddit.redditor(author_str)\n",
    "        link_karma= redditor.link_karma\n",
    "    #if the account was deleted or ..., set Karma to 0 \n",
    "    except:\n",
    "        link_karma= 0\n",
    "    return link_karma\n",
    "\n",
    "#Creter udf to retrieve Karma \n",
    "udf_karma = F.udf(udf_get_karma, IntegerType())"
   ]
  },
  {
   "cell_type": "markdown",
   "id": "eba20ff2-c4e7-46b1-a886-a3ba7e406cfa",
   "metadata": {
    "tags": []
   },
   "source": [
    "## Top 10 creators \n"
   ]
  },
  {
   "cell_type": "code",
   "execution_count": 11,
   "id": "7124fcac-6eec-429b-99bd-37a06bd61caf",
   "metadata": {},
   "outputs": [
    {
     "data": {
      "text/plain": [
       "DataFrame[created_year: int, author: string, sub_count: bigint, total_score: double, total_num_cmnt: double, avg_score: double, avg_num_cmnt: double, creator_score: double]"
      ]
     },
     "execution_count": 11,
     "metadata": {},
     "output_type": "execute_result"
    }
   ],
   "source": [
    "# Preparation\n",
    "sampled_submissions_creators= sampled_submissions.select(\"subreddit\",\"created_utc\",\"author\",\"title\", \"score\", \"num_comments\")\n",
    "sampled_submissions_creators = sampled_submissions_creators.withColumn(\"score\",F.col(\"score\").cast(\"float\"))\\\n",
    "                                         .withColumn(\"num_comments\",F.col(\"num_comments\").cast(\"float\"))\\\n",
    "                                         .withColumn(\"created_year\",F.year(F.to_timestamp(F.col(\"created_utc\").cast('int'))))\n",
    "\n",
    "#Group submissions data by year and author\n",
    "sampled_submissions_creators= sampled_submissions_creators.groupBy(\"created_year\",\"author\").agg(\n",
    "    F.count(\"*\").alias(\"sub_count\"),\n",
    "    F.sum(\"score\").alias(\"total_score\"),\n",
    "    F.sum(\"num_comments\").alias(\"total_num_cmnt\"),\n",
    "    F.round(F.avg(\"score\"),2).alias(\"avg_score\"),\n",
    "    F.round(F.avg(\"num_comments\"),2).alias(\"avg_num_cmnt\")\n",
    ").sort('created_year')\n",
    "\n",
    "# Filter out meaningless data\n",
    "sampled_submissions_creators= sampled_submissions_creators.filter((sampled_submissions_creators['author']!='[deleted]') &\\\n",
    "                                                                  (sampled_submissions_creators['total_score']!=0) &\\\n",
    "                                                                  (sampled_submissions_creators['total_num_cmnt']!=0))\n",
    "\n",
    "# Designed for the sample dataset: More straightforward to show the quality of creators' contents for the sample\n",
    "sampled_submissions_creators= sampled_submissions_creators.withColumn(\"creator_score\",F.col(\"sub_count\")*(F.col(\"total_score\")+F.col(\"total_num_cmnt\")))\\\n",
    "                                                          .orderBy(\"creator_score\",ascending= False)\n",
    "\n",
    "# Designed for the full dataset: Considering the quantity of comments and scores varies, it's more reasonable to use ranking than simplly adding up the quantity.\n",
    "# sampled_submissions_creators= sampled_submissions_creators.withColumn(\"sub_count_ranking\",F.dense_rank().over(Window.orderBy(\"sub_count\")))\\\n",
    "#                                                           .withColumn(\"avg_score_ranking\",F.dense_rank().over(Window.orderBy(\"avg_score\")))\\\n",
    "#                                                           .withColumn(\"avg_num_cmnt_ranking\",F.dense_rank().over(Window.orderBy(\"avg_num_cmnt\")))\\\n",
    "#                                                           .withColumn(\"creator_score\",F.col(\"sub_count_ranking\")+F.col(\"avg_score_ranking\")+F.col(\"avg_num_cmnt_ranking\"))\\\n",
    "#                                                           .withColumn('posting_karma',udf_karma(F.col(\"author\")))\\\n",
    "#                                                           .orderBy(\"creator_score\",ascending= False)\\\n",
    "\n",
    "sampled_submissions_creators.cache()"
   ]
  },
  {
   "cell_type": "code",
   "execution_count": 12,
   "id": "f3fd1366-fb71-4eb4-97ac-1b76a55892e1",
   "metadata": {},
   "outputs": [
    {
     "name": "stderr",
     "output_type": "stream",
     "text": [
      "                                                                                \r"
     ]
    }
   ],
   "source": [
    "#Generate top10 creators of the year\n",
    "sampled_creators_top10_2021= sampled_submissions_creators.filter(sampled_submissions_creators['created_year']==2021)\\\n",
    "                                                         .select('created_year',\"author\",\"sub_count\",\"avg_score\",\"avg_num_cmnt\",\"creator_score\")\\\n",
    "                                                         .limit(10)\\\n",
    "                                                         .withColumn('posting_karma',udf_karma(F.col(\"author\")))\\\n",
    "                                                         .toPandas()\n",
    "sampled_creators_top10_2022= sampled_submissions_creators.filter(sampled_submissions_creators['created_year']==2022)\\\n",
    "                                                         .select('created_year',\"author\",\"sub_count\",\"avg_score\",\"avg_num_cmnt\",\"creator_score\")\\\n",
    "                                                         .limit(10)\\\n",
    "                                                         .withColumn('posting_karma',udf_karma(F.col(\"author\")))\\\n",
    "                                                         .toPandas()\n",
    "sampled_creators_top10_2023= sampled_submissions_creators.filter(sampled_submissions_creators['created_year']==2023)\\\n",
    "                                                         .select('created_year',\"author\",\"sub_count\",\"avg_score\",\"avg_num_cmnt\",\"creator_score\")\\\n",
    "                                                         .limit(10)\\\n",
    "                                                         .withColumn('posting_karma',udf_karma(F.col(\"author\")))\\\n",
    "                                                         .toPandas()\n",
    "#Generate top10 creators of the year from 2021 to 2023\n",
    "sampled_creators_top10_total= pd.concat([sampled_creators_top10_2021,sampled_creators_top10_2022,sampled_creators_top10_2023], axis=0, ignore_index=True)\n"
   ]
  },
  {
   "cell_type": "code",
   "execution_count": 13,
   "id": "c1f6d0a6-df49-4744-b1b0-9b2672b3f1df",
   "metadata": {},
   "outputs": [
    {
     "name": "stderr",
     "output_type": "stream",
     "text": [
      "                                                                                \r"
     ]
    }
   ],
   "source": [
    "#Generate top100 creators of the year, proportional to the duration\n",
    "sampled_creators_top46_2021= sampled_submissions_creators.filter(sampled_submissions_creators['created_year']==2021)\\\n",
    "                                                         .select('created_year',\"author\",\"sub_count\",\"avg_score\",\"avg_num_cmnt\",\"creator_score\")\\\n",
    "                                                         .limit(46)\\\n",
    "                                                         .withColumn('posting_karma',udf_karma(F.col(\"author\")))\\\n",
    "                                                         .toPandas()\n",
    "sampled_creators_top46_2022= sampled_submissions_creators.filter(sampled_submissions_creators['created_year']==2022)\\\n",
    "                                                         .select('created_year',\"author\",\"sub_count\",\"avg_score\",\"avg_num_cmnt\",\"creator_score\")\\\n",
    "                                                         .limit(46)\\\n",
    "                                                         .withColumn('posting_karma',udf_karma(F.col(\"author\")))\\\n",
    "                                                         .toPandas()\n",
    "sampled_creators_top8_2023= sampled_creators_top10_2023[0:8]\n",
    "#Generate top100 creators of the year from 2021 to 2023\n",
    "sampled_creators_top100_total= pd.concat([sampled_creators_top46_2021,sampled_creators_top46_2022,sampled_creators_top8_2023], axis=0, ignore_index=True)\n",
    "\n",
    "\n",
    "# List of top100 creators from 2021 to 2023, remove duplicate name\n",
    "sampled_topcreators= sampled_creators_top100_total['author'].to_list()\n",
    "sampled_topcreators = list(set(sampled_topcreators))"
   ]
  },
  {
   "cell_type": "code",
   "execution_count": 14,
   "id": "625e9ed8-97da-4403-959d-13dd624bb6e5",
   "metadata": {
    "tags": []
   },
   "outputs": [
    {
     "name": "stderr",
     "output_type": "stream",
     "text": [
      "                                                                                \r"
     ]
    }
   ],
   "source": [
    "#Generate top100 creators of the year from 2021 to 2023, proportional to the duration\n",
    "sampled_creators_top46_2021= sampled_submissions_creators.filter(sampled_submissions_creators['created_year']==2021)\\\n",
    "                                                         .select('created_year',\"author\",\"sub_count\",\"avg_score\",\"avg_num_cmnt\",\"creator_score\")\\\n",
    "                                                         .limit(46)\\\n",
    "                                                         .withColumn('posting_karma',udf_karma(F.col(\"author\")))\\\n",
    "                                                         .toPandas()\n",
    "sampled_creators_top46_2022= sampled_submissions_creators.filter(sampled_submissions_creators['created_year']==2022)\\\n",
    "                                                         .select('created_year',\"author\",\"sub_count\",\"avg_score\",\"avg_num_cmnt\",\"creator_score\")\\\n",
    "                                                         .limit(46)\\\n",
    "                                                         .withColumn('posting_karma',udf_karma(F.col(\"author\")))\\\n",
    "                                                         .toPandas()\n",
    "sampled_creators_top8_2023= sampled_creators_top10_2023[0:8]\n",
    "sampled_creators_top100_total= pd.concat([sampled_creators_top46_2021,sampled_creators_top46_2022,sampled_creators_top8_2023], axis=0, ignore_index=True)\n",
    "\n",
    "# List of top100 creators from 2021 to 2023, remove duplicate name\n",
    "sampled_topcreators= sampled_creators_top100_total['author'].to_list()\n",
    "sampled_topcreators = list(set(sampled_topcreators))"
   ]
  },
  {
   "cell_type": "markdown",
   "id": "0dc0ecd7-114c-4e30-b03f-818fef9ed3c2",
   "metadata": {
    "tags": []
   },
   "source": [
    "## New varaibles\n"
   ]
  },
  {
   "cell_type": "code",
   "execution_count": 15,
   "id": "bc2d7706-8f82-487e-a843-91bcc032f717",
   "metadata": {},
   "outputs": [
    {
     "data": {
      "text/plain": [
       "DataFrame[author: string, selftext: string, created_utc: timestamp, created_hour: int, len: int, skincare: boolean, skincare_product: boolean, skincare_product_brand: boolean, makeup: boolean, makeup_product: boolean, makeup_product_brand: boolean, is_top_100_creator: boolean, is_peak_hours: boolean, is_long_text: boolean]"
      ]
     },
     "execution_count": 15,
     "metadata": {},
     "output_type": "execute_result"
    }
   ],
   "source": [
    "# Data preparation\n",
    "sampled_submissions_var= sampled_submissions.select(\"author\",\"selftext\",\"created_utc\")\\\n",
    "                                        .withColumn(\"created_hour\",F.hour(F.to_timestamp(F.col(\"created_utc\").cast('int'))))\\\n",
    "                                        .withColumn('len',F.length(F.col('selftext')))\n",
    "\n",
    "# Dummy submissions varaibles\n",
    "sampled_submissions_var= sampled_submissions_var.withColumn(\"skincare\",F.col(\"selftext\").rlike(\"\"\"(?i)body|(?i)hair|(?i)facial|(?i)nails|(?i)lip|(?i)sunscreen|(?i)SPF|(?i)acne|(?i)pimples|(?i)scar|(?i)aging\"\"\"))\\\n",
    "                                  .withColumn(\"skincare_product\",F.col(\"selftext\").rlike(\"\"\"(?i)moisturizer|(?i)cleanser|(?i)serum|(?i)toner|(?i)lotion\"\"\"))\\\n",
    "                                  .withColumn(\"skincare_product_brand\",F.col(\"selftext\").rlike(\"\"\"(?i)Clinique|(?i)Neutrogena|(?i)Cetaphil|(?i)Kiehl's|(?i)Olay\"\"\"))\\\n",
    "                                  .withColumn(\"makeup\",F.col(\"selftext\").rlike(\"\"\"(?i)beauty|(?i)bodypaint|(?i)cosmetics|(?i)style|(?i)artist|(?i)cosplay|(?i)fashion|(?i)celebrity|(?i)party|(?i)wedding|(?i)palette\"\"\"))\\\n",
    "                                  .withColumn(\"makeup_product\",F.col(\"selftext\").rlike(\"\"\"(?i)eyeliner|(?i)contour|(?i)foundation|(?i)blush|(?i)lipstick|(?i)concealer\"\"\"))\\\n",
    "                                  .withColumn(\"makeup_product_brand\",F.col(\"selftext\").rlike(\"\"\"(?i)MAC|(?i)NARS|(?i)Sephora|(?i)Fenty|(?i)Revlon|(?i)NYX|(?i)L'Oreal|(?i)Maybelline\"\"\"))\\\n",
    "# New submissions varaible\n",
    "sampled_submissions_var= sampled_submissions_var.withColumn(\"is_top_100_creator\",F.col(\"author\").isin(sampled_topcreators))\\\n",
    "                                        .withColumn(\"is_peak_hours\",F.col(\"created_hour\").isin([16, 17, 18, 19, 20, 21, 22, 23, 0]))\\\n",
    "                                        .withColumn(\"is_long_text\",(F.col('len') > 200))\n",
    "sampled_submissions_var.cache()"
   ]
  },
  {
   "cell_type": "code",
   "execution_count": 16,
   "id": "7a6280fc-765e-4f40-a0cd-0b4c9c215df9",
   "metadata": {},
   "outputs": [
    {
     "data": {
      "text/plain": [
       "DataFrame[author: string, body: string, created_utc: timestamp, created_hour: int, len: int, skincare: boolean, skincare_product: boolean, skincare_product_brand: boolean, makeup: boolean, makeup_product: boolean, makeup_product_brand: boolean, is_top_100_creator: boolean, is_long_text: boolean]"
      ]
     },
     "execution_count": 16,
     "metadata": {},
     "output_type": "execute_result"
    }
   ],
   "source": [
    "# Data preparation\n",
    "sampled_comments_var= sampled_comments.select(\"author\",\"body\",\"created_utc\")\\\n",
    "                                  .withColumn(\"created_hour\",F.hour(F.to_timestamp(F.col(\"created_utc\").cast('int'))))\\\n",
    "                                  .withColumn('len',F.length(F.col('body')))\n",
    "# Dummy comments varaibles\n",
    "sampled_comments_var= sampled_comments_var.withColumn(\"skincare\",F.col(\"body\").rlike(\"\"\"(?i)body|(?i)hair|(?i)facial|(?i)nails|(?i)lip|(?i)sunscreen|(?i)SPF|(?i)acne|(?i)pimples|(?i)scar|(?i)aging\"\"\"))\\\n",
    "                                  .withColumn(\"skincare_product\",F.col(\"body\").rlike(\"\"\"(?i)moisturizer|(?i)cleanser|(?i)serum|(?i)toner|(?i)lotion\"\"\"))\\\n",
    "                                  .withColumn(\"skincare_product_brand\",F.col(\"body\").rlike(\"\"\"(?i)Clinique|(?i)Neutrogena|(?i)Cetaphil|(?i)Kiehl's|(?i)Olay\"\"\"))\\\n",
    "                                  .withColumn(\"makeup\",F.col(\"body\").rlike(\"\"\"(?i)beauty|(?i)bodypaint|(?i)cosmetics|(?i)style|(?i)artist|(?i)cosplay|(?i)fashion|(?i)celebrity|(?i)party|(?i)wedding|(?i)palette\"\"\"))\\\n",
    "                                  .withColumn(\"makeup_product\",F.col(\"body\").rlike(\"\"\"(?i)eyeliner|(?i)contour|(?i)foundation|(?i)blush|(?i)lipstick|(?i)concealer\"\"\"))\\\n",
    "                                  .withColumn(\"makeup_product_brand\",F.col(\"body\").rlike(\"\"\"(?i)MAC|(?i)NARS|(?i)Sephora|(?i)Fenty|(?i)Revlon|(?i)NYX|(?i)L'Oreal|(?i)Maybelline\"\"\"))\\\n",
    "# New comments varaibles\n",
    "sampled_comments_var= sampled_comments_var.withColumn(\"is_top_100_creator\",F.col(\"author\").isin(sampled_topcreators))\\\n",
    "                                  .withColumn(\"is_long_text\",(F.col('len') > 200))\n",
    "\n",
    "sampled_comments_var.cache()"
   ]
  },
  {
   "cell_type": "code",
   "execution_count": 17,
   "id": "40dd6c9d-39d8-41fc-aebc-e963d59c05d4",
   "metadata": {
    "tags": []
   },
   "outputs": [
    {
     "name": "stderr",
     "output_type": "stream",
     "text": [
      "                                                                                \r"
     ]
    }
   ],
   "source": [
    "# Group by and count variables in submissions\n",
    "sampled_submissions_peak_count= sampled_submissions_var.groupby('is_peak_hours').count().withColumn('is_peak_hours',F.col('is_peak_hours').cast('string')).toPandas()\n",
    "sampled_submissions_top_count= sampled_submissions_var.groupby('is_top_100_creator').count().withColumn('is_top_100_creator',F.col('is_top_100_creator').cast('string')).toPandas()\n",
    "sampled_submissions_long_count= sampled_submissions_var.groupby('is_long_text').count().withColumn('is_long_text',F.col('is_long_text').cast('string')).toPandas()\n",
    "sampled_submissions_skincare_count= sampled_submissions_var.groupby('skincare').count().withColumn('skincare',F.col('skincare').cast('string')).toPandas()\n",
    "sampled_submissions_makeup_count= sampled_submissions_var.groupby('makeup').count().withColumn('makeup',F.col('makeup').cast('string')).toPandas()\n",
    "sampled_submissions_var_count= pd.concat([sampled_submissions_peak_count,sampled_submissions_top_count,sampled_submissions_top_count,sampled_submissions_skincare_count,sampled_submissions_makeup_count], axis=1)\n",
    "\n",
    "# Group by and count variables in comments\n",
    "sampled_comments_top_count= sampled_comments_var.groupby('is_top_100_creator').count().withColumn('is_top_100_creator',F.col('is_top_100_creator').cast('string')).toPandas()\n",
    "sampled_comments_long_count= sampled_comments_var.groupby('is_long_text').count().withColumn('is_long_text',F.col('is_long_text').cast('string')).toPandas()\n",
    "sampled_comments_skincare_count= sampled_comments_var.groupby('skincare').count().withColumn('skincare',F.col('skincare').cast('string')).toPandas()\n",
    "sampled_comments_makeup_count= sampled_comments_var.groupby('makeup').count().withColumn('makeup',F.col('makeup').cast('string')).toPandas()\n",
    "sampled_comments_var_count= pd.concat([sampled_comments_top_count,sampled_comments_long_count,sampled_comments_skincare_count,sampled_comments_makeup_count], axis=1)"
   ]
  },
  {
   "cell_type": "code",
   "execution_count": 18,
   "id": "30d3ae20-a7dc-4a2d-be29-17ddbd302664",
   "metadata": {
    "tags": []
   },
   "outputs": [
    {
     "data": {
      "text/html": [
       "<div>\n",
       "<style scoped>\n",
       "    .dataframe tbody tr th:only-of-type {\n",
       "        vertical-align: middle;\n",
       "    }\n",
       "\n",
       "    .dataframe tbody tr th {\n",
       "        vertical-align: top;\n",
       "    }\n",
       "\n",
       "    .dataframe thead th {\n",
       "        text-align: right;\n",
       "    }\n",
       "</style>\n",
       "<table border=\"1\" class=\"dataframe\">\n",
       "  <thead>\n",
       "    <tr style=\"text-align: right;\">\n",
       "      <th></th>\n",
       "      <th>is_peak_hours</th>\n",
       "      <th>count</th>\n",
       "      <th>is_top_100_creator</th>\n",
       "      <th>count</th>\n",
       "      <th>is_top_100_creator</th>\n",
       "      <th>count</th>\n",
       "      <th>skincare</th>\n",
       "      <th>count</th>\n",
       "      <th>makeup</th>\n",
       "      <th>count</th>\n",
       "    </tr>\n",
       "  </thead>\n",
       "  <tbody>\n",
       "    <tr>\n",
       "      <th>0</th>\n",
       "      <td>true</td>\n",
       "      <td>4814</td>\n",
       "      <td>true</td>\n",
       "      <td>336</td>\n",
       "      <td>true</td>\n",
       "      <td>336</td>\n",
       "      <td>true</td>\n",
       "      <td>662</td>\n",
       "      <td>true</td>\n",
       "      <td>414</td>\n",
       "    </tr>\n",
       "    <tr>\n",
       "      <th>1</th>\n",
       "      <td>false</td>\n",
       "      <td>4920</td>\n",
       "      <td>false</td>\n",
       "      <td>9398</td>\n",
       "      <td>false</td>\n",
       "      <td>9398</td>\n",
       "      <td>false</td>\n",
       "      <td>9072</td>\n",
       "      <td>false</td>\n",
       "      <td>9320</td>\n",
       "    </tr>\n",
       "  </tbody>\n",
       "</table>\n",
       "</div>"
      ],
      "text/plain": [
       "  is_peak_hours  count is_top_100_creator  count is_top_100_creator  count  \\\n",
       "0          true   4814               true    336               true    336   \n",
       "1         false   4920              false   9398              false   9398   \n",
       "\n",
       "  skincare  count makeup  count  \n",
       "0     true    662   true    414  \n",
       "1    false   9072  false   9320  "
      ]
     },
     "execution_count": 18,
     "metadata": {},
     "output_type": "execute_result"
    }
   ],
   "source": [
    "sampled_submissions_var_count"
   ]
  },
  {
   "cell_type": "code",
   "execution_count": 19,
   "id": "2d61c91f-f187-438b-a389-b8e4741dcd28",
   "metadata": {
    "tags": []
   },
   "outputs": [
    {
     "data": {
      "text/html": [
       "<div>\n",
       "<style scoped>\n",
       "    .dataframe tbody tr th:only-of-type {\n",
       "        vertical-align: middle;\n",
       "    }\n",
       "\n",
       "    .dataframe tbody tr th {\n",
       "        vertical-align: top;\n",
       "    }\n",
       "\n",
       "    .dataframe thead th {\n",
       "        text-align: right;\n",
       "    }\n",
       "</style>\n",
       "<table border=\"1\" class=\"dataframe\">\n",
       "  <thead>\n",
       "    <tr style=\"text-align: right;\">\n",
       "      <th></th>\n",
       "      <th>is_top_100_creator</th>\n",
       "      <th>count</th>\n",
       "      <th>is_long_text</th>\n",
       "      <th>count</th>\n",
       "      <th>skincare</th>\n",
       "      <th>count</th>\n",
       "      <th>makeup</th>\n",
       "      <th>count</th>\n",
       "    </tr>\n",
       "  </thead>\n",
       "  <tbody>\n",
       "    <tr>\n",
       "      <th>0</th>\n",
       "      <td>true</td>\n",
       "      <td>2097</td>\n",
       "      <td>true</td>\n",
       "      <td>28912</td>\n",
       "      <td>true</td>\n",
       "      <td>17213</td>\n",
       "      <td>true</td>\n",
       "      <td>15394</td>\n",
       "    </tr>\n",
       "    <tr>\n",
       "      <th>1</th>\n",
       "      <td>false</td>\n",
       "      <td>103619</td>\n",
       "      <td>false</td>\n",
       "      <td>76804</td>\n",
       "      <td>false</td>\n",
       "      <td>88503</td>\n",
       "      <td>false</td>\n",
       "      <td>90322</td>\n",
       "    </tr>\n",
       "  </tbody>\n",
       "</table>\n",
       "</div>"
      ],
      "text/plain": [
       "  is_top_100_creator   count is_long_text  count skincare  count makeup  count\n",
       "0               true    2097         true  28912     true  17213   true  15394\n",
       "1              false  103619        false  76804    false  88503  false  90322"
      ]
     },
     "execution_count": 19,
     "metadata": {},
     "output_type": "execute_result"
    }
   ],
   "source": [
    "sampled_comments_var_count"
   ]
  }
 ],
 "metadata": {
  "availableInstances": [
   {
    "_defaultOrder": 0,
    "_isFastLaunch": true,
    "category": "General purpose",
    "gpuNum": 0,
    "hideHardwareSpecs": false,
    "memoryGiB": 4,
    "name": "ml.t3.medium",
    "vcpuNum": 2
   },
   {
    "_defaultOrder": 1,
    "_isFastLaunch": false,
    "category": "General purpose",
    "gpuNum": 0,
    "hideHardwareSpecs": false,
    "memoryGiB": 8,
    "name": "ml.t3.large",
    "vcpuNum": 2
   },
   {
    "_defaultOrder": 2,
    "_isFastLaunch": false,
    "category": "General purpose",
    "gpuNum": 0,
    "hideHardwareSpecs": false,
    "memoryGiB": 16,
    "name": "ml.t3.xlarge",
    "vcpuNum": 4
   },
   {
    "_defaultOrder": 3,
    "_isFastLaunch": false,
    "category": "General purpose",
    "gpuNum": 0,
    "hideHardwareSpecs": false,
    "memoryGiB": 32,
    "name": "ml.t3.2xlarge",
    "vcpuNum": 8
   },
   {
    "_defaultOrder": 4,
    "_isFastLaunch": true,
    "category": "General purpose",
    "gpuNum": 0,
    "hideHardwareSpecs": false,
    "memoryGiB": 8,
    "name": "ml.m5.large",
    "vcpuNum": 2
   },
   {
    "_defaultOrder": 5,
    "_isFastLaunch": false,
    "category": "General purpose",
    "gpuNum": 0,
    "hideHardwareSpecs": false,
    "memoryGiB": 16,
    "name": "ml.m5.xlarge",
    "vcpuNum": 4
   },
   {
    "_defaultOrder": 6,
    "_isFastLaunch": false,
    "category": "General purpose",
    "gpuNum": 0,
    "hideHardwareSpecs": false,
    "memoryGiB": 32,
    "name": "ml.m5.2xlarge",
    "vcpuNum": 8
   },
   {
    "_defaultOrder": 7,
    "_isFastLaunch": false,
    "category": "General purpose",
    "gpuNum": 0,
    "hideHardwareSpecs": false,
    "memoryGiB": 64,
    "name": "ml.m5.4xlarge",
    "vcpuNum": 16
   },
   {
    "_defaultOrder": 8,
    "_isFastLaunch": false,
    "category": "General purpose",
    "gpuNum": 0,
    "hideHardwareSpecs": false,
    "memoryGiB": 128,
    "name": "ml.m5.8xlarge",
    "vcpuNum": 32
   },
   {
    "_defaultOrder": 9,
    "_isFastLaunch": false,
    "category": "General purpose",
    "gpuNum": 0,
    "hideHardwareSpecs": false,
    "memoryGiB": 192,
    "name": "ml.m5.12xlarge",
    "vcpuNum": 48
   },
   {
    "_defaultOrder": 10,
    "_isFastLaunch": false,
    "category": "General purpose",
    "gpuNum": 0,
    "hideHardwareSpecs": false,
    "memoryGiB": 256,
    "name": "ml.m5.16xlarge",
    "vcpuNum": 64
   },
   {
    "_defaultOrder": 11,
    "_isFastLaunch": false,
    "category": "General purpose",
    "gpuNum": 0,
    "hideHardwareSpecs": false,
    "memoryGiB": 384,
    "name": "ml.m5.24xlarge",
    "vcpuNum": 96
   },
   {
    "_defaultOrder": 12,
    "_isFastLaunch": false,
    "category": "General purpose",
    "gpuNum": 0,
    "hideHardwareSpecs": false,
    "memoryGiB": 8,
    "name": "ml.m5d.large",
    "vcpuNum": 2
   },
   {
    "_defaultOrder": 13,
    "_isFastLaunch": false,
    "category": "General purpose",
    "gpuNum": 0,
    "hideHardwareSpecs": false,
    "memoryGiB": 16,
    "name": "ml.m5d.xlarge",
    "vcpuNum": 4
   },
   {
    "_defaultOrder": 14,
    "_isFastLaunch": false,
    "category": "General purpose",
    "gpuNum": 0,
    "hideHardwareSpecs": false,
    "memoryGiB": 32,
    "name": "ml.m5d.2xlarge",
    "vcpuNum": 8
   },
   {
    "_defaultOrder": 15,
    "_isFastLaunch": false,
    "category": "General purpose",
    "gpuNum": 0,
    "hideHardwareSpecs": false,
    "memoryGiB": 64,
    "name": "ml.m5d.4xlarge",
    "vcpuNum": 16
   },
   {
    "_defaultOrder": 16,
    "_isFastLaunch": false,
    "category": "General purpose",
    "gpuNum": 0,
    "hideHardwareSpecs": false,
    "memoryGiB": 128,
    "name": "ml.m5d.8xlarge",
    "vcpuNum": 32
   },
   {
    "_defaultOrder": 17,
    "_isFastLaunch": false,
    "category": "General purpose",
    "gpuNum": 0,
    "hideHardwareSpecs": false,
    "memoryGiB": 192,
    "name": "ml.m5d.12xlarge",
    "vcpuNum": 48
   },
   {
    "_defaultOrder": 18,
    "_isFastLaunch": false,
    "category": "General purpose",
    "gpuNum": 0,
    "hideHardwareSpecs": false,
    "memoryGiB": 256,
    "name": "ml.m5d.16xlarge",
    "vcpuNum": 64
   },
   {
    "_defaultOrder": 19,
    "_isFastLaunch": false,
    "category": "General purpose",
    "gpuNum": 0,
    "hideHardwareSpecs": false,
    "memoryGiB": 384,
    "name": "ml.m5d.24xlarge",
    "vcpuNum": 96
   },
   {
    "_defaultOrder": 20,
    "_isFastLaunch": false,
    "category": "General purpose",
    "gpuNum": 0,
    "hideHardwareSpecs": true,
    "memoryGiB": 0,
    "name": "ml.geospatial.interactive",
    "supportedImageNames": [
     "sagemaker-geospatial-v1-0"
    ],
    "vcpuNum": 0
   },
   {
    "_defaultOrder": 21,
    "_isFastLaunch": true,
    "category": "Compute optimized",
    "gpuNum": 0,
    "hideHardwareSpecs": false,
    "memoryGiB": 4,
    "name": "ml.c5.large",
    "vcpuNum": 2
   },
   {
    "_defaultOrder": 22,
    "_isFastLaunch": false,
    "category": "Compute optimized",
    "gpuNum": 0,
    "hideHardwareSpecs": false,
    "memoryGiB": 8,
    "name": "ml.c5.xlarge",
    "vcpuNum": 4
   },
   {
    "_defaultOrder": 23,
    "_isFastLaunch": false,
    "category": "Compute optimized",
    "gpuNum": 0,
    "hideHardwareSpecs": false,
    "memoryGiB": 16,
    "name": "ml.c5.2xlarge",
    "vcpuNum": 8
   },
   {
    "_defaultOrder": 24,
    "_isFastLaunch": false,
    "category": "Compute optimized",
    "gpuNum": 0,
    "hideHardwareSpecs": false,
    "memoryGiB": 32,
    "name": "ml.c5.4xlarge",
    "vcpuNum": 16
   },
   {
    "_defaultOrder": 25,
    "_isFastLaunch": false,
    "category": "Compute optimized",
    "gpuNum": 0,
    "hideHardwareSpecs": false,
    "memoryGiB": 72,
    "name": "ml.c5.9xlarge",
    "vcpuNum": 36
   },
   {
    "_defaultOrder": 26,
    "_isFastLaunch": false,
    "category": "Compute optimized",
    "gpuNum": 0,
    "hideHardwareSpecs": false,
    "memoryGiB": 96,
    "name": "ml.c5.12xlarge",
    "vcpuNum": 48
   },
   {
    "_defaultOrder": 27,
    "_isFastLaunch": false,
    "category": "Compute optimized",
    "gpuNum": 0,
    "hideHardwareSpecs": false,
    "memoryGiB": 144,
    "name": "ml.c5.18xlarge",
    "vcpuNum": 72
   },
   {
    "_defaultOrder": 28,
    "_isFastLaunch": false,
    "category": "Compute optimized",
    "gpuNum": 0,
    "hideHardwareSpecs": false,
    "memoryGiB": 192,
    "name": "ml.c5.24xlarge",
    "vcpuNum": 96
   },
   {
    "_defaultOrder": 29,
    "_isFastLaunch": true,
    "category": "Accelerated computing",
    "gpuNum": 1,
    "hideHardwareSpecs": false,
    "memoryGiB": 16,
    "name": "ml.g4dn.xlarge",
    "vcpuNum": 4
   },
   {
    "_defaultOrder": 30,
    "_isFastLaunch": false,
    "category": "Accelerated computing",
    "gpuNum": 1,
    "hideHardwareSpecs": false,
    "memoryGiB": 32,
    "name": "ml.g4dn.2xlarge",
    "vcpuNum": 8
   },
   {
    "_defaultOrder": 31,
    "_isFastLaunch": false,
    "category": "Accelerated computing",
    "gpuNum": 1,
    "hideHardwareSpecs": false,
    "memoryGiB": 64,
    "name": "ml.g4dn.4xlarge",
    "vcpuNum": 16
   },
   {
    "_defaultOrder": 32,
    "_isFastLaunch": false,
    "category": "Accelerated computing",
    "gpuNum": 1,
    "hideHardwareSpecs": false,
    "memoryGiB": 128,
    "name": "ml.g4dn.8xlarge",
    "vcpuNum": 32
   },
   {
    "_defaultOrder": 33,
    "_isFastLaunch": false,
    "category": "Accelerated computing",
    "gpuNum": 4,
    "hideHardwareSpecs": false,
    "memoryGiB": 192,
    "name": "ml.g4dn.12xlarge",
    "vcpuNum": 48
   },
   {
    "_defaultOrder": 34,
    "_isFastLaunch": false,
    "category": "Accelerated computing",
    "gpuNum": 1,
    "hideHardwareSpecs": false,
    "memoryGiB": 256,
    "name": "ml.g4dn.16xlarge",
    "vcpuNum": 64
   },
   {
    "_defaultOrder": 35,
    "_isFastLaunch": false,
    "category": "Accelerated computing",
    "gpuNum": 1,
    "hideHardwareSpecs": false,
    "memoryGiB": 61,
    "name": "ml.p3.2xlarge",
    "vcpuNum": 8
   },
   {
    "_defaultOrder": 36,
    "_isFastLaunch": false,
    "category": "Accelerated computing",
    "gpuNum": 4,
    "hideHardwareSpecs": false,
    "memoryGiB": 244,
    "name": "ml.p3.8xlarge",
    "vcpuNum": 32
   },
   {
    "_defaultOrder": 37,
    "_isFastLaunch": false,
    "category": "Accelerated computing",
    "gpuNum": 8,
    "hideHardwareSpecs": false,
    "memoryGiB": 488,
    "name": "ml.p3.16xlarge",
    "vcpuNum": 64
   },
   {
    "_defaultOrder": 38,
    "_isFastLaunch": false,
    "category": "Accelerated computing",
    "gpuNum": 8,
    "hideHardwareSpecs": false,
    "memoryGiB": 768,
    "name": "ml.p3dn.24xlarge",
    "vcpuNum": 96
   },
   {
    "_defaultOrder": 39,
    "_isFastLaunch": false,
    "category": "Memory Optimized",
    "gpuNum": 0,
    "hideHardwareSpecs": false,
    "memoryGiB": 16,
    "name": "ml.r5.large",
    "vcpuNum": 2
   },
   {
    "_defaultOrder": 40,
    "_isFastLaunch": false,
    "category": "Memory Optimized",
    "gpuNum": 0,
    "hideHardwareSpecs": false,
    "memoryGiB": 32,
    "name": "ml.r5.xlarge",
    "vcpuNum": 4
   },
   {
    "_defaultOrder": 41,
    "_isFastLaunch": false,
    "category": "Memory Optimized",
    "gpuNum": 0,
    "hideHardwareSpecs": false,
    "memoryGiB": 64,
    "name": "ml.r5.2xlarge",
    "vcpuNum": 8
   },
   {
    "_defaultOrder": 42,
    "_isFastLaunch": false,
    "category": "Memory Optimized",
    "gpuNum": 0,
    "hideHardwareSpecs": false,
    "memoryGiB": 128,
    "name": "ml.r5.4xlarge",
    "vcpuNum": 16
   },
   {
    "_defaultOrder": 43,
    "_isFastLaunch": false,
    "category": "Memory Optimized",
    "gpuNum": 0,
    "hideHardwareSpecs": false,
    "memoryGiB": 256,
    "name": "ml.r5.8xlarge",
    "vcpuNum": 32
   },
   {
    "_defaultOrder": 44,
    "_isFastLaunch": false,
    "category": "Memory Optimized",
    "gpuNum": 0,
    "hideHardwareSpecs": false,
    "memoryGiB": 384,
    "name": "ml.r5.12xlarge",
    "vcpuNum": 48
   },
   {
    "_defaultOrder": 45,
    "_isFastLaunch": false,
    "category": "Memory Optimized",
    "gpuNum": 0,
    "hideHardwareSpecs": false,
    "memoryGiB": 512,
    "name": "ml.r5.16xlarge",
    "vcpuNum": 64
   },
   {
    "_defaultOrder": 46,
    "_isFastLaunch": false,
    "category": "Memory Optimized",
    "gpuNum": 0,
    "hideHardwareSpecs": false,
    "memoryGiB": 768,
    "name": "ml.r5.24xlarge",
    "vcpuNum": 96
   },
   {
    "_defaultOrder": 47,
    "_isFastLaunch": false,
    "category": "Accelerated computing",
    "gpuNum": 1,
    "hideHardwareSpecs": false,
    "memoryGiB": 16,
    "name": "ml.g5.xlarge",
    "vcpuNum": 4
   },
   {
    "_defaultOrder": 48,
    "_isFastLaunch": false,
    "category": "Accelerated computing",
    "gpuNum": 1,
    "hideHardwareSpecs": false,
    "memoryGiB": 32,
    "name": "ml.g5.2xlarge",
    "vcpuNum": 8
   },
   {
    "_defaultOrder": 49,
    "_isFastLaunch": false,
    "category": "Accelerated computing",
    "gpuNum": 1,
    "hideHardwareSpecs": false,
    "memoryGiB": 64,
    "name": "ml.g5.4xlarge",
    "vcpuNum": 16
   },
   {
    "_defaultOrder": 50,
    "_isFastLaunch": false,
    "category": "Accelerated computing",
    "gpuNum": 1,
    "hideHardwareSpecs": false,
    "memoryGiB": 128,
    "name": "ml.g5.8xlarge",
    "vcpuNum": 32
   },
   {
    "_defaultOrder": 51,
    "_isFastLaunch": false,
    "category": "Accelerated computing",
    "gpuNum": 1,
    "hideHardwareSpecs": false,
    "memoryGiB": 256,
    "name": "ml.g5.16xlarge",
    "vcpuNum": 64
   },
   {
    "_defaultOrder": 52,
    "_isFastLaunch": false,
    "category": "Accelerated computing",
    "gpuNum": 4,
    "hideHardwareSpecs": false,
    "memoryGiB": 192,
    "name": "ml.g5.12xlarge",
    "vcpuNum": 48
   },
   {
    "_defaultOrder": 53,
    "_isFastLaunch": false,
    "category": "Accelerated computing",
    "gpuNum": 4,
    "hideHardwareSpecs": false,
    "memoryGiB": 384,
    "name": "ml.g5.24xlarge",
    "vcpuNum": 96
   },
   {
    "_defaultOrder": 54,
    "_isFastLaunch": false,
    "category": "Accelerated computing",
    "gpuNum": 8,
    "hideHardwareSpecs": false,
    "memoryGiB": 768,
    "name": "ml.g5.48xlarge",
    "vcpuNum": 192
   },
   {
    "_defaultOrder": 55,
    "_isFastLaunch": false,
    "category": "Accelerated computing",
    "gpuNum": 8,
    "hideHardwareSpecs": false,
    "memoryGiB": 1152,
    "name": "ml.p4d.24xlarge",
    "vcpuNum": 96
   },
   {
    "_defaultOrder": 56,
    "_isFastLaunch": false,
    "category": "Accelerated computing",
    "gpuNum": 8,
    "hideHardwareSpecs": false,
    "memoryGiB": 1152,
    "name": "ml.p4de.24xlarge",
    "vcpuNum": 96
   },
   {
    "_defaultOrder": 57,
    "_isFastLaunch": false,
    "category": "Accelerated computing",
    "gpuNum": 0,
    "hideHardwareSpecs": false,
    "memoryGiB": 32,
    "name": "ml.trn1.2xlarge",
    "vcpuNum": 8
   },
   {
    "_defaultOrder": 58,
    "_isFastLaunch": false,
    "category": "Accelerated computing",
    "gpuNum": 0,
    "hideHardwareSpecs": false,
    "memoryGiB": 512,
    "name": "ml.trn1.32xlarge",
    "vcpuNum": 128
   },
   {
    "_defaultOrder": 59,
    "_isFastLaunch": false,
    "category": "Accelerated computing",
    "gpuNum": 0,
    "hideHardwareSpecs": false,
    "memoryGiB": 512,
    "name": "ml.trn1n.32xlarge",
    "vcpuNum": 128
   }
  ],
  "instance_type": "ml.t3.large",
  "kernelspec": {
   "display_name": "Python 3 (Data Science 3.0)",
   "language": "python",
   "name": "python3__SAGEMAKER_INTERNAL__arn:aws:sagemaker:us-east-1:081325390199:image/sagemaker-data-science-310-v1"
  },
  "language_info": {
   "codemirror_mode": {
    "name": "ipython",
    "version": 3
   },
   "file_extension": ".py",
   "mimetype": "text/x-python",
   "name": "python",
   "nbconvert_exporter": "python",
   "pygments_lexer": "ipython3",
   "version": "3.10.6"
  }
 },
 "nbformat": 4,
 "nbformat_minor": 5
}
